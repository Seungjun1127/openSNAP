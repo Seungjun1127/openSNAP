{
 "cells": [
  {
   "cell_type": "code",
   "execution_count": 1,
   "metadata": {},
   "outputs": [],
   "source": [
    "import torch\n",
    "import torch.nn as nn\n",
    "import torch.optim as optim"
   ]
  },
  {
   "cell_type": "code",
   "execution_count": null,
   "metadata": {},
   "outputs": [],
   "source": [
    "class SparseAutoEncoder(nn.Module):\n",
    "    def __init__(self, input_dimen, latent_dimen):\n",
    "\n",
    "        # SAE initialization\n",
    "        # input_dimen = number of activations\n",
    "        # latent_dimen = dimension of the sparse latent space\n",
    "\n",
    "        super(SparseAutoEncoder, self).__init__()\n",
    "\n",
    "        # Encoder (Reduces dimensionality)\n",
    "        self.encoder = nn.Sequential(\n",
    "            nn.Linear(input_dimen, latent_dimen),\n",
    "            nn.ReLU()\n",
    "        )\n",
    "\n",
    "        # Decoder (reconstructs input)\n",
    "        self.decoder = nn.Sequential(\n",
    "            nn.Linear(latent_dimen, input_dimen)\n",
    "        )\n",
    "\n",
    "        # forward pass through the autoencoder\n",
    "        def forward(self, x):                       # x = input tensor\n",
    "            encoded = self.encoder(x)               # latent space representation\n",
    "            decoded = self.decoder(encoded)\n",
    "            return decoded                          # returns reconstructed input\n",
    "        "
   ]
  },
  {
   "cell_type": "code",
   "execution_count": null,
   "metadata": {},
   "outputs": [],
   "source": [
    "# defining the loss fucntion\n",
    "\n",
    "def sparse_autoencoder_loss(reconstructed, original, model, sparsity_weight = 1e-4):\n",
    "\n",
    "    # reconstructed = reconstructed output from the decoder\n",
    "    # original = original input data\n",
    "    # sparsity_weight = weight of the sparsity penalty (L1)\n",
    "\n",
    "    reconstruction_loss = nn.MSELoss()(reconstructed, original)\n",
    "    l1_penalty = 0\n",
    "    for param in model.encoder.parameters():\n",
    "        l1_penalty += torch.sum(torch.abs(param))\n",
    "\n",
    "    total_loss = reconstruction_loss + sparsity_weight * l1_penalty\n",
    "\n",
    "    return total_loss\n"
   ]
  }
 ],
 "metadata": {
  "kernelspec": {
   "display_name": "base",
   "language": "python",
   "name": "python3"
  },
  "language_info": {
   "codemirror_mode": {
    "name": "ipython",
    "version": 3
   },
   "file_extension": ".py",
   "mimetype": "text/x-python",
   "name": "python",
   "nbconvert_exporter": "python",
   "pygments_lexer": "ipython3",
   "version": "3.11.4"
  }
 },
 "nbformat": 4,
 "nbformat_minor": 2
}
